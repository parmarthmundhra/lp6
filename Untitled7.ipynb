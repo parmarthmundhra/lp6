{
  "cells": [
    {
      "cell_type": "markdown",
      "metadata": {
        "id": "view-in-github",
        "colab_type": "text"
      },
      "source": [
        "<a href=\"https://colab.research.google.com/github/Kunal726/Lp6/blob/main/Untitled7.ipynb\" target=\"_parent\"><img src=\"https://colab.research.google.com/assets/colab-badge.svg\" alt=\"Open In Colab\"/></a>"
      ]
    },
    {
      "cell_type": "code",
      "execution_count": null,
      "metadata": {
        "id": "Ahr2oT4WRiRG"
      },
      "outputs": [],
      "source": [
        "! mkdir ~/.kaggle\n",
        "! cp kaggle.json ~/.kaggle/\n",
        "! chmod 600 ~/.kaggle/kaggle.json"
      ]
    },
    {
      "cell_type": "code",
      "execution_count": null,
      "metadata": {
        "colab": {
          "base_uri": "https://localhost:8080/"
        },
        "id": "wPzWFD9QRoQd",
        "outputId": "c50d0e51-dd43-454a-e54f-cb6ffd15285f"
      },
      "outputs": [
        {
          "name": "stdout",
          "output_type": "stream",
          "text": [
            "Downloading devnagri-handwritten-character.zip to /content\n",
            "\r  0% 0.00/6.29M [00:00<?, ?B/s]\r 80% 5.00M/6.29M [00:00<00:00, 50.6MB/s]\n",
            "\r100% 6.29M/6.29M [00:00<00:00, 61.1MB/s]\n"
          ]
        }
      ],
      "source": [
        "!kaggle datasets download -d somnath796/devnagri-handwritten-character"
      ]
    },
    {
      "cell_type": "code",
      "execution_count": null,
      "metadata": {
        "id": "eJ1Xr0ioRrmV"
      },
      "outputs": [],
      "source": [
        "import numpy as np # linear algebra\n",
        "import pandas as pd # data processing, CSV file I/O (e.g. pd.read_csv)\n",
        "from PIL import Image\n",
        "import sys\n",
        "import array\n",
        "import cv2\n",
        "import tensorflow as tf\n",
        "from keras.callbacks import LearningRateScheduler\n",
        "import os"
      ]
    },
    {
      "cell_type": "code",
      "execution_count": null,
      "metadata": {
        "id": "lQOhwkZaRypt"
      },
      "outputs": [],
      "source": [
        "columnNames = list()\n",
        "columnNames.append('label')\n",
        "for i in range(784):\n",
        "    pixel = 'pixel'\n",
        "    pixel += str(i)\n",
        "    columnNames.append(pixel)\n",
        "train_data = pd.DataFrame(columns = columnNames)\n",
        "i=0\n",
        "count=1"
      ]
    },
    {
      "cell_type": "code",
      "execution_count": null,
      "metadata": {
        "id": "SJA0Mk8RSY7g"
      },
      "outputs": [],
      "source": [
        "!unzip -uq \"devnagri-handwritten-character.zip\" -d \"devnagri-handwritten-character\""
      ]
    },
    {
      "cell_type": "code",
      "execution_count": null,
      "metadata": {
        "colab": {
          "base_uri": "https://localhost:8080/"
        },
        "id": "WUqaKLwgSBoj",
        "outputId": "caa61f5f-f4ce-4148-9a15-9c963b2726d6"
      },
      "outputs": [
        {
          "name": "stdout",
          "output_type": "stream",
          "text": [
            "1\n",
            "2\n",
            "3\n",
            "4\n",
            "5\n",
            "6\n",
            "7\n",
            "8\n",
            "9\n",
            "10\n",
            "11\n",
            "12\n",
            "13\n",
            "14\n",
            "15\n",
            "16\n",
            "17\n",
            "18\n",
            "19\n",
            "20\n",
            "21\n",
            "22\n",
            "23\n",
            "24\n",
            "25\n",
            "26\n",
            "27\n",
            "28\n",
            "29\n",
            "30\n",
            "31\n",
            "32\n",
            "33\n",
            "34\n",
            "35\n",
            "36\n",
            "37\n",
            "38\n",
            "39\n",
            "40\n",
            "41\n",
            "42\n",
            "43\n",
            "44\n",
            "45\n",
            "46\n",
            "47\n",
            "48\n",
            "49\n"
          ]
        }
      ],
      "source": [
        "for dirname, _, filenames in os.walk('devnagri-handwritten-character/DEVNAGARI_NEW/TRAIN'):\n",
        "    for filename in filenames:\n",
        "        image_name = os.path.join(dirname, filename)\n",
        "        #print(os.path.join(dirname, filename))\n",
        "        label = dirname[dirname.rindex('/')+1:]\n",
        "        #print(label)\n",
        "        img = Image.open(image_name)\n",
        "        rawData = img.load()\n",
        "        #print(rawData)\n",
        "        data = []\n",
        "        data.append(label)\n",
        "        for y in range(28):\n",
        "            for x in range(28):\n",
        "                data.append(rawData[x,y])\n",
        "        k = 0\n",
        "        train_data.loc[i] = [data[k] for k in range(785)]\n",
        "        i = i+1\n",
        "    print(count)\n",
        "    count = count + 1"
      ]
    },
    {
      "cell_type": "code",
      "execution_count": null,
      "metadata": {
        "colab": {
          "base_uri": "https://localhost:8080/",
          "height": 299
        },
        "id": "4pkiyaXBSnXU",
        "outputId": "725e77dd-9b89-4ac5-e5e9-f4678abc6fc8"
      },
      "outputs": [
        {
          "data": {
            "text/html": [
              "\n",
              "  <div id=\"df-a5bc0e8e-1ec1-469a-a9e9-09cf7c687a4f\">\n",
              "    <div class=\"colab-df-container\">\n",
              "      <div>\n",
              "<style scoped>\n",
              "    .dataframe tbody tr th:only-of-type {\n",
              "        vertical-align: middle;\n",
              "    }\n",
              "\n",
              "    .dataframe tbody tr th {\n",
              "        vertical-align: top;\n",
              "    }\n",
              "\n",
              "    .dataframe thead th {\n",
              "        text-align: right;\n",
              "    }\n",
              "</style>\n",
              "<table border=\"1\" class=\"dataframe\">\n",
              "  <thead>\n",
              "    <tr style=\"text-align: right;\">\n",
              "      <th></th>\n",
              "      <th>label</th>\n",
              "      <th>pixel0</th>\n",
              "      <th>pixel1</th>\n",
              "      <th>pixel2</th>\n",
              "      <th>pixel3</th>\n",
              "      <th>pixel4</th>\n",
              "      <th>pixel5</th>\n",
              "      <th>pixel6</th>\n",
              "      <th>pixel7</th>\n",
              "      <th>pixel8</th>\n",
              "      <th>...</th>\n",
              "      <th>pixel774</th>\n",
              "      <th>pixel775</th>\n",
              "      <th>pixel776</th>\n",
              "      <th>pixel777</th>\n",
              "      <th>pixel778</th>\n",
              "      <th>pixel779</th>\n",
              "      <th>pixel780</th>\n",
              "      <th>pixel781</th>\n",
              "      <th>pixel782</th>\n",
              "      <th>pixel783</th>\n",
              "    </tr>\n",
              "  </thead>\n",
              "  <tbody>\n",
              "    <tr>\n",
              "      <th>0</th>\n",
              "      <td>13</td>\n",
              "      <td>255</td>\n",
              "      <td>245</td>\n",
              "      <td>255</td>\n",
              "      <td>255</td>\n",
              "      <td>247</td>\n",
              "      <td>254</td>\n",
              "      <td>255</td>\n",
              "      <td>244</td>\n",
              "      <td>224</td>\n",
              "      <td>...</td>\n",
              "      <td>211</td>\n",
              "      <td>237</td>\n",
              "      <td>242</td>\n",
              "      <td>253</td>\n",
              "      <td>255</td>\n",
              "      <td>237</td>\n",
              "      <td>251</td>\n",
              "      <td>253</td>\n",
              "      <td>255</td>\n",
              "      <td>255</td>\n",
              "    </tr>\n",
              "    <tr>\n",
              "      <th>1</th>\n",
              "      <td>13</td>\n",
              "      <td>255</td>\n",
              "      <td>220</td>\n",
              "      <td>170</td>\n",
              "      <td>126</td>\n",
              "      <td>136</td>\n",
              "      <td>196</td>\n",
              "      <td>209</td>\n",
              "      <td>158</td>\n",
              "      <td>127</td>\n",
              "      <td>...</td>\n",
              "      <td>254</td>\n",
              "      <td>247</td>\n",
              "      <td>245</td>\n",
              "      <td>255</td>\n",
              "      <td>255</td>\n",
              "      <td>246</td>\n",
              "      <td>255</td>\n",
              "      <td>255</td>\n",
              "      <td>255</td>\n",
              "      <td>255</td>\n",
              "    </tr>\n",
              "    <tr>\n",
              "      <th>2</th>\n",
              "      <td>13</td>\n",
              "      <td>252</td>\n",
              "      <td>250</td>\n",
              "      <td>255</td>\n",
              "      <td>235</td>\n",
              "      <td>204</td>\n",
              "      <td>194</td>\n",
              "      <td>132</td>\n",
              "      <td>23</td>\n",
              "      <td>0</td>\n",
              "      <td>...</td>\n",
              "      <td>255</td>\n",
              "      <td>253</td>\n",
              "      <td>248</td>\n",
              "      <td>244</td>\n",
              "      <td>245</td>\n",
              "      <td>246</td>\n",
              "      <td>252</td>\n",
              "      <td>253</td>\n",
              "      <td>254</td>\n",
              "      <td>255</td>\n",
              "    </tr>\n",
              "    <tr>\n",
              "      <th>3</th>\n",
              "      <td>13</td>\n",
              "      <td>251</td>\n",
              "      <td>249</td>\n",
              "      <td>204</td>\n",
              "      <td>155</td>\n",
              "      <td>155</td>\n",
              "      <td>160</td>\n",
              "      <td>151</td>\n",
              "      <td>158</td>\n",
              "      <td>145</td>\n",
              "      <td>...</td>\n",
              "      <td>255</td>\n",
              "      <td>255</td>\n",
              "      <td>255</td>\n",
              "      <td>255</td>\n",
              "      <td>254</td>\n",
              "      <td>254</td>\n",
              "      <td>255</td>\n",
              "      <td>255</td>\n",
              "      <td>255</td>\n",
              "      <td>255</td>\n",
              "    </tr>\n",
              "    <tr>\n",
              "      <th>4</th>\n",
              "      <td>13</td>\n",
              "      <td>111</td>\n",
              "      <td>43</td>\n",
              "      <td>6</td>\n",
              "      <td>0</td>\n",
              "      <td>13</td>\n",
              "      <td>78</td>\n",
              "      <td>129</td>\n",
              "      <td>115</td>\n",
              "      <td>134</td>\n",
              "      <td>...</td>\n",
              "      <td>250</td>\n",
              "      <td>249</td>\n",
              "      <td>255</td>\n",
              "      <td>255</td>\n",
              "      <td>252</td>\n",
              "      <td>255</td>\n",
              "      <td>255</td>\n",
              "      <td>255</td>\n",
              "      <td>255</td>\n",
              "      <td>255</td>\n",
              "    </tr>\n",
              "  </tbody>\n",
              "</table>\n",
              "<p>5 rows × 785 columns</p>\n",
              "</div>\n",
              "      <button class=\"colab-df-convert\" onclick=\"convertToInteractive('df-a5bc0e8e-1ec1-469a-a9e9-09cf7c687a4f')\"\n",
              "              title=\"Convert this dataframe to an interactive table.\"\n",
              "              style=\"display:none;\">\n",
              "        \n",
              "  <svg xmlns=\"http://www.w3.org/2000/svg\" height=\"24px\"viewBox=\"0 0 24 24\"\n",
              "       width=\"24px\">\n",
              "    <path d=\"M0 0h24v24H0V0z\" fill=\"none\"/>\n",
              "    <path d=\"M18.56 5.44l.94 2.06.94-2.06 2.06-.94-2.06-.94-.94-2.06-.94 2.06-2.06.94zm-11 1L8.5 8.5l.94-2.06 2.06-.94-2.06-.94L8.5 2.5l-.94 2.06-2.06.94zm10 10l.94 2.06.94-2.06 2.06-.94-2.06-.94-.94-2.06-.94 2.06-2.06.94z\"/><path d=\"M17.41 7.96l-1.37-1.37c-.4-.4-.92-.59-1.43-.59-.52 0-1.04.2-1.43.59L10.3 9.45l-7.72 7.72c-.78.78-.78 2.05 0 2.83L4 21.41c.39.39.9.59 1.41.59.51 0 1.02-.2 1.41-.59l7.78-7.78 2.81-2.81c.8-.78.8-2.07 0-2.86zM5.41 20L4 18.59l7.72-7.72 1.47 1.35L5.41 20z\"/>\n",
              "  </svg>\n",
              "      </button>\n",
              "      \n",
              "  <style>\n",
              "    .colab-df-container {\n",
              "      display:flex;\n",
              "      flex-wrap:wrap;\n",
              "      gap: 12px;\n",
              "    }\n",
              "\n",
              "    .colab-df-convert {\n",
              "      background-color: #E8F0FE;\n",
              "      border: none;\n",
              "      border-radius: 50%;\n",
              "      cursor: pointer;\n",
              "      display: none;\n",
              "      fill: #1967D2;\n",
              "      height: 32px;\n",
              "      padding: 0 0 0 0;\n",
              "      width: 32px;\n",
              "    }\n",
              "\n",
              "    .colab-df-convert:hover {\n",
              "      background-color: #E2EBFA;\n",
              "      box-shadow: 0px 1px 2px rgba(60, 64, 67, 0.3), 0px 1px 3px 1px rgba(60, 64, 67, 0.15);\n",
              "      fill: #174EA6;\n",
              "    }\n",
              "\n",
              "    [theme=dark] .colab-df-convert {\n",
              "      background-color: #3B4455;\n",
              "      fill: #D2E3FC;\n",
              "    }\n",
              "\n",
              "    [theme=dark] .colab-df-convert:hover {\n",
              "      background-color: #434B5C;\n",
              "      box-shadow: 0px 1px 3px 1px rgba(0, 0, 0, 0.15);\n",
              "      filter: drop-shadow(0px 1px 2px rgba(0, 0, 0, 0.3));\n",
              "      fill: #FFFFFF;\n",
              "    }\n",
              "  </style>\n",
              "\n",
              "      <script>\n",
              "        const buttonEl =\n",
              "          document.querySelector('#df-a5bc0e8e-1ec1-469a-a9e9-09cf7c687a4f button.colab-df-convert');\n",
              "        buttonEl.style.display =\n",
              "          google.colab.kernel.accessAllowed ? 'block' : 'none';\n",
              "\n",
              "        async function convertToInteractive(key) {\n",
              "          const element = document.querySelector('#df-a5bc0e8e-1ec1-469a-a9e9-09cf7c687a4f');\n",
              "          const dataTable =\n",
              "            await google.colab.kernel.invokeFunction('convertToInteractive',\n",
              "                                                     [key], {});\n",
              "          if (!dataTable) return;\n",
              "\n",
              "          const docLinkHtml = 'Like what you see? Visit the ' +\n",
              "            '<a target=\"_blank\" href=https://colab.research.google.com/notebooks/data_table.ipynb>data table notebook</a>'\n",
              "            + ' to learn more about interactive tables.';\n",
              "          element.innerHTML = '';\n",
              "          dataTable['output_type'] = 'display_data';\n",
              "          await google.colab.output.renderOutput(dataTable, element);\n",
              "          const docLink = document.createElement('div');\n",
              "          docLink.innerHTML = docLinkHtml;\n",
              "          element.appendChild(docLink);\n",
              "        }\n",
              "      </script>\n",
              "    </div>\n",
              "  </div>\n",
              "  "
            ],
            "text/plain": [
              "  label  pixel0  pixel1  pixel2  pixel3  pixel4  pixel5  pixel6  pixel7  \\\n",
              "0    13     255     245     255     255     247     254     255     244   \n",
              "1    13     255     220     170     126     136     196     209     158   \n",
              "2    13     252     250     255     235     204     194     132      23   \n",
              "3    13     251     249     204     155     155     160     151     158   \n",
              "4    13     111      43       6       0      13      78     129     115   \n",
              "\n",
              "   pixel8  ...  pixel774  pixel775  pixel776  pixel777  pixel778  pixel779  \\\n",
              "0     224  ...       211       237       242       253       255       237   \n",
              "1     127  ...       254       247       245       255       255       246   \n",
              "2       0  ...       255       253       248       244       245       246   \n",
              "3     145  ...       255       255       255       255       254       254   \n",
              "4     134  ...       250       249       255       255       252       255   \n",
              "\n",
              "   pixel780  pixel781  pixel782  pixel783  \n",
              "0       251       253       255       255  \n",
              "1       255       255       255       255  \n",
              "2       252       253       254       255  \n",
              "3       255       255       255       255  \n",
              "4       255       255       255       255  \n",
              "\n",
              "[5 rows x 785 columns]"
            ]
          },
          "execution_count": 13,
          "metadata": {},
          "output_type": "execute_result"
        }
      ],
      "source": [
        "train_data.head()"
      ]
    },
    {
      "cell_type": "code",
      "execution_count": null,
      "metadata": {
        "colab": {
          "base_uri": "https://localhost:8080/"
        },
        "id": "5AZgiP4zSwnz",
        "outputId": "4418853f-154b-4a09-c529-632ed7d8e15f"
      },
      "outputs": [
        {
          "name": "stdout",
          "output_type": "stream",
          "text": [
            "1\n",
            "2\n",
            "3\n",
            "4\n",
            "5\n",
            "6\n",
            "7\n",
            "8\n",
            "9\n",
            "10\n",
            "11\n",
            "12\n",
            "13\n",
            "14\n",
            "15\n",
            "16\n",
            "17\n",
            "18\n",
            "19\n",
            "20\n",
            "21\n",
            "22\n",
            "23\n",
            "24\n",
            "25\n",
            "26\n",
            "27\n",
            "28\n",
            "29\n",
            "30\n",
            "31\n",
            "32\n",
            "33\n",
            "34\n",
            "35\n",
            "36\n",
            "37\n",
            "38\n",
            "39\n",
            "40\n",
            "41\n",
            "42\n",
            "43\n",
            "44\n",
            "45\n",
            "46\n",
            "47\n",
            "48\n",
            "49\n"
          ]
        }
      ],
      "source": [
        "# Test Data to columns\n",
        "columnNames = list()\n",
        "columnNames.append('label')\n",
        "for i in range(784):\n",
        "    pixel = 'pixel'\n",
        "    pixel += str(i)\n",
        "    columnNames.append(pixel)\n",
        "test_data = pd.DataFrame(columns = columnNames)\n",
        "i=0\n",
        "count=1\n",
        "for dirname, _, filenames in os.walk('devnagri-handwritten-character/DEVNAGARI_NEW/TEST'):\n",
        "    for filename in filenames:\n",
        "        image_name = os.path.join(dirname, filename)\n",
        "        #print(os.path.join(dirname, filename))\n",
        "        label = dirname[dirname.rindex('/')+1:]\n",
        "        #print(label)\n",
        "        img = Image.open(image_name)\n",
        "        rawData = img.load()\n",
        "        #print(rawData)\n",
        "        data = []\n",
        "        data.append(label)\n",
        "        for y in range(28):\n",
        "            for x in range(28):\n",
        "                data.append(rawData[x,y])\n",
        "        k = 0\n",
        "        test_data.loc[i] = [data[k] for k in range(785)]\n",
        "        i = i+1\n",
        "    print(count)\n",
        "    count = count + 1"
      ]
    },
    {
      "cell_type": "code",
      "execution_count": null,
      "metadata": {
        "id": "qhWJlL2ZVQm2"
      },
      "outputs": [],
      "source": [
        "test_data.to_csv(\"test.csv\",index=False)\n",
        "train_data.to_csv('train.csv',index=False)\n",
        "train = train_data\n",
        "test = test_data"
      ]
    },
    {
      "cell_type": "code",
      "execution_count": null,
      "metadata": {
        "id": "BxB9AH9rWLFW"
      },
      "outputs": [],
      "source": [
        "from keras.utils import to_categorical\n",
        "\n",
        "Y_train = train[\"label\"]\n",
        "Y_train = Y_train.astype(int)\n",
        "Y_train = Y_train - 1\n",
        "X_train = train.drop(labels = [\"label\"],axis = 1)\n",
        "X_train = X_train / 255.0\n",
        "X_test = test.drop(labels = [\"label\"],axis = 1)\n",
        "X_test = X_test / 255.0\n",
        "X_train = X_train.values.reshape(-1,28,28,1)\n",
        "X_test = X_test.values.reshape(-1,28,28,1)\n",
        "Y_train = to_categorical(Y_train, num_classes = 48)"
      ]
    },
    {
      "cell_type": "code",
      "execution_count": null,
      "metadata": {
        "id": "VITSrnc5WRrR"
      },
      "outputs": [],
      "source": [
        "from keras.preprocessing.image import ImageDataGenerator\n",
        "\n",
        "datagen = ImageDataGenerator(\n",
        "        rotation_range=10,  \n",
        "        zoom_range = 0.10,  \n",
        "        width_shift_range=0.1, \n",
        "        height_shift_range=0.1)"
      ]
    },
    {
      "cell_type": "code",
      "execution_count": null,
      "metadata": {
        "id": "uDBcTAMJXNBo"
      },
      "outputs": [],
      "source": [
        "from keras.models import Sequential\n",
        "from tensorflow.keras.layers import Conv2D\n",
        "from tensorflow.keras.layers import BatchNormalization\n",
        "from keras.layers import Dropout\n",
        "from keras.layers import Dense, Flatten\n",
        "from sklearn.model_selection import train_test_split"
      ]
    },
    {
      "cell_type": "code",
      "execution_count": null,
      "metadata": {
        "id": "J-0Q7oVHWzvt"
      },
      "outputs": [],
      "source": [
        "model = Sequential()\n",
        "model.add(Conv2D(32, kernel_size = 3, activation='relu', input_shape = (28, 28, 1)))\n",
        "model.add(BatchNormalization())\n",
        "model.add(Conv2D(32, kernel_size = 3, activation='relu'))\n",
        "model.add(BatchNormalization())\n",
        "model.add(Conv2D(32, kernel_size = 5, strides=2, padding='same', activation='relu'))\n",
        "model.add(BatchNormalization())\n",
        "model.add(Dropout(0.4))\n",
        "\n",
        "model.add(Conv2D(64, kernel_size = 3, activation='relu'))\n",
        "model.add(BatchNormalization())\n",
        "model.add(Conv2D(64, kernel_size = 3, activation='relu'))\n",
        "model.add(BatchNormalization())\n",
        "model.add(Conv2D(64, kernel_size = 5, strides=2, padding='same', activation='relu'))\n",
        "model.add(BatchNormalization())\n",
        "model.add(Dropout(0.4))\n",
        "\n",
        "model.add(Conv2D(128, kernel_size = 4, activation='relu'))\n",
        "model.add(BatchNormalization())\n",
        "model.add(Flatten())\n",
        "model.add(Dropout(0.4))\n",
        "model.add(Dense(48, activation='softmax'))\n",
        "\n",
        "# COMPILE WITH ADAM OPTIMIZER AND CROSS ENTROPY COST\n",
        "model.compile(optimizer=\"adam\", loss=\"categorical_crossentropy\", metrics=[\"accuracy\"])"
      ]
    },
    {
      "cell_type": "code",
      "execution_count": null,
      "metadata": {
        "id": "yN31kXf5XBJ0"
      },
      "outputs": [],
      "source": [
        "X_train2, X_val2, Y_train2, Y_val2 = train_test_split(X_train, Y_train, test_size = 0.1)\n",
        "annealer = LearningRateScheduler(lambda x: 1e-3 * 0.95 ** x)"
      ]
    },
    {
      "cell_type": "code",
      "execution_count": null,
      "metadata": {
        "colab": {
          "background_save": true,
          "base_uri": "https://localhost:8080/"
        },
        "id": "3LEJCpmtYN-P",
        "outputId": "f49f8878-1d9f-4bbc-af09-20c84c7ebfe0"
      },
      "outputs": [
        {
          "name": "stdout",
          "output_type": "stream",
          "text": [
            "Epoch 1/10\n",
            "91/91 [==============================] - 26s 283ms/step - loss: 0.2102 - accuracy: 0.9306\n",
            "Epoch 2/10\n",
            "91/91 [==============================] - 26s 283ms/step - loss: 0.2029 - accuracy: 0.9337\n",
            "Epoch 3/10\n",
            "91/91 [==============================] - 26s 283ms/step - loss: 0.2203 - accuracy: 0.9294\n",
            "Epoch 4/10\n",
            "91/91 [==============================] - 26s 285ms/step - loss: 0.2077 - accuracy: 0.9341\n",
            "Epoch 5/10\n",
            "91/91 [==============================] - 26s 284ms/step - loss: 0.1893 - accuracy: 0.9418\n",
            "Epoch 6/10\n",
            "91/91 [==============================] - 26s 281ms/step - loss: 0.1972 - accuracy: 0.9382\n",
            "Epoch 7/10\n",
            "91/91 [==============================] - 26s 281ms/step - loss: 0.1990 - accuracy: 0.9377\n",
            "Epoch 8/10\n",
            "91/91 [==============================] - 26s 281ms/step - loss: 0.1881 - accuracy: 0.9418\n",
            "Epoch 9/10\n",
            "91/91 [==============================] - 26s 283ms/step - loss: 0.1905 - accuracy: 0.9415\n",
            "Epoch 10/10\n",
            "91/91 [==============================] - 26s 282ms/step - loss: 0.1832 - accuracy: 0.9425\n"
          ]
        }
      ],
      "source": [
        "history = model.fit(datagen.flow(X_train2,Y_train2, batch_size=64),\n",
        "        epochs = 10, steps_per_epoch = X_train2.shape[0]//64)"
      ]
    },
    {
      "cell_type": "code",
      "execution_count": null,
      "metadata": {
        "colab": {
          "base_uri": "https://localhost:8080/"
        },
        "id": "_A1F3RV2YbHV",
        "outputId": "ff5adf4c-0782-4a26-dd94-5df570435229"
      },
      "outputs": [
        {
          "name": "stdout",
          "output_type": "stream",
          "text": [
            "Accuracy; 94%\n"
          ]
        }
      ],
      "source": [
        "scores = model.evaluate(X_val2, Y_val2, verbose = 0)\n",
        "print(\"Accuracy; %.0f%%\" %(scores[1] * 100))"
      ]
    },
    {
      "cell_type": "code",
      "execution_count": null,
      "metadata": {
        "colab": {
          "base_uri": "https://localhost:8080/",
          "height": 472
        },
        "id": "gMXMs4XPgvSO",
        "outputId": "16027748-a1e7-4735-ab20-fa69e9528f22"
      },
      "outputs": [
        {
          "data": {
            "image/png": "[encoded data removed]",
            "text/plain": [
              "<Figure size 640x480 with 1 Axes>"
            ]
          },
          "metadata": {},
          "output_type": "display_data"
        }
      ],
      "source": [
        "from matplotlib import pyplot as plt\n",
        "from matplotlib import image as mpimg\n",
        "\n",
        "plt.title(\"Sheep Image\")\n",
        "plt.xlabel(\"X pixel scaling\")\n",
        "plt.ylabel(\"Y pixels scaling\")\n",
        "\n",
        "image = mpimg.imread(\"devnagri-handwritten-character/DEVNAGARI_NEW/TEST/14/006_01.jpg\")\n",
        "plt.imshow(image)\n",
        "plt.show()"
      ]
    },
    {
      "cell_type": "code",
      "execution_count": null,
      "metadata": {
        "id": "DUVd0Iyyh3ge"
      },
      "outputs": [],
      "source": [
        "from PIL import Image  "
      ]
    },
    {
      "cell_type": "code",
      "execution_count": null,
      "metadata": {
        "id": "cRLLZN5IiSNt"
      },
      "outputs": [],
      "source": [
        "mg=Image.open('devnagri-handwritten-character/DEVNAGARI_NEW/TEST/14/006_01.jpg')  "
      ]
    },
    {
      "cell_type": "code",
      "execution_count": null,
      "metadata": {
        "colab": {
          "base_uri": "https://localhost:8080/",
          "height": 430
        },
        "id": "uDdI5b_biXa1",
        "outputId": "99efd79a-52da-473a-a1d6-0709a663aa66"
      },
      "outputs": [
        {
          "data": {
            "image/png": "[encoded data removed]",
            "text/plain": [
              "<Figure size 640x480 with 1 Axes>"
            ]
          },
          "metadata": {},
          "output_type": "display_data"
        }
      ],
      "source": [
        "plt.imshow(img)  \n",
        "plt.show()  "
      ]
    },
    {
      "cell_type": "code",
      "execution_count": null,
      "metadata": {
        "colab": {
          "base_uri": "https://localhost:8080/",
          "height": 487
        },
        "id": "bVzI3_AYie0d",
        "outputId": "fd541451-3c07-45d2-d7a3-3ef0ff2e57d3"
      },
      "outputs": [
        {
          "data": {
            "text/html": [
              "\n",
              "  <div id=\"df-7c6c0624-b5bc-4517-b2df-efeb21420323\">\n",
              "    <div class=\"colab-df-container\">\n",
              "      <div>\n",
              "<style scoped>\n",
              "    .dataframe tbody tr th:only-of-type {\n",
              "        vertical-align: middle;\n",
              "    }\n",
              "\n",
              "    .dataframe tbody tr th {\n",
              "        vertical-align: top;\n",
              "    }\n",
              "\n",
              "    .dataframe thead th {\n",
              "        text-align: right;\n",
              "    }\n",
              "</style>\n",
              "<table border=\"1\" class=\"dataframe\">\n",
              "  <thead>\n",
              "    <tr style=\"text-align: right;\">\n",
              "      <th></th>\n",
              "      <th>label</th>\n",
              "      <th>pixel0</th>\n",
              "      <th>pixel1</th>\n",
              "      <th>pixel2</th>\n",
              "      <th>pixel3</th>\n",
              "      <th>pixel4</th>\n",
              "      <th>pixel5</th>\n",
              "      <th>pixel6</th>\n",
              "      <th>pixel7</th>\n",
              "      <th>pixel8</th>\n",
              "      <th>...</th>\n",
              "      <th>pixel774</th>\n",
              "      <th>pixel775</th>\n",
              "      <th>pixel776</th>\n",
              "      <th>pixel777</th>\n",
              "      <th>pixel778</th>\n",
              "      <th>pixel779</th>\n",
              "      <th>pixel780</th>\n",
              "      <th>pixel781</th>\n",
              "      <th>pixel782</th>\n",
              "      <th>pixel783</th>\n",
              "    </tr>\n",
              "  </thead>\n",
              "  <tbody>\n",
              "    <tr>\n",
              "      <th>0</th>\n",
              "      <td>13</td>\n",
              "      <td>254</td>\n",
              "      <td>254</td>\n",
              "      <td>254</td>\n",
              "      <td>254</td>\n",
              "      <td>254</td>\n",
              "      <td>254</td>\n",
              "      <td>254</td>\n",
              "      <td>254</td>\n",
              "      <td>254</td>\n",
              "      <td>...</td>\n",
              "      <td>253</td>\n",
              "      <td>254</td>\n",
              "      <td>255</td>\n",
              "      <td>255</td>\n",
              "      <td>255</td>\n",
              "      <td>255</td>\n",
              "      <td>255</td>\n",
              "      <td>255</td>\n",
              "      <td>255</td>\n",
              "      <td>255</td>\n",
              "    </tr>\n",
              "    <tr>\n",
              "      <th>1</th>\n",
              "      <td>13</td>\n",
              "      <td>246</td>\n",
              "      <td>255</td>\n",
              "      <td>255</td>\n",
              "      <td>243</td>\n",
              "      <td>254</td>\n",
              "      <td>244</td>\n",
              "      <td>231</td>\n",
              "      <td>248</td>\n",
              "      <td>236</td>\n",
              "      <td>...</td>\n",
              "      <td>253</td>\n",
              "      <td>254</td>\n",
              "      <td>254</td>\n",
              "      <td>255</td>\n",
              "      <td>255</td>\n",
              "      <td>255</td>\n",
              "      <td>255</td>\n",
              "      <td>255</td>\n",
              "      <td>255</td>\n",
              "      <td>255</td>\n",
              "    </tr>\n",
              "    <tr>\n",
              "      <th>2</th>\n",
              "      <td>13</td>\n",
              "      <td>254</td>\n",
              "      <td>255</td>\n",
              "      <td>255</td>\n",
              "      <td>255</td>\n",
              "      <td>255</td>\n",
              "      <td>254</td>\n",
              "      <td>253</td>\n",
              "      <td>252</td>\n",
              "      <td>243</td>\n",
              "      <td>...</td>\n",
              "      <td>255</td>\n",
              "      <td>243</td>\n",
              "      <td>255</td>\n",
              "      <td>255</td>\n",
              "      <td>252</td>\n",
              "      <td>253</td>\n",
              "      <td>255</td>\n",
              "      <td>255</td>\n",
              "      <td>255</td>\n",
              "      <td>255</td>\n",
              "    </tr>\n",
              "    <tr>\n",
              "      <th>3</th>\n",
              "      <td>13</td>\n",
              "      <td>58</td>\n",
              "      <td>60</td>\n",
              "      <td>132</td>\n",
              "      <td>123</td>\n",
              "      <td>119</td>\n",
              "      <td>45</td>\n",
              "      <td>12</td>\n",
              "      <td>7</td>\n",
              "      <td>6</td>\n",
              "      <td>...</td>\n",
              "      <td>254</td>\n",
              "      <td>255</td>\n",
              "      <td>255</td>\n",
              "      <td>255</td>\n",
              "      <td>254</td>\n",
              "      <td>254</td>\n",
              "      <td>255</td>\n",
              "      <td>255</td>\n",
              "      <td>255</td>\n",
              "      <td>255</td>\n",
              "    </tr>\n",
              "    <tr>\n",
              "      <th>4</th>\n",
              "      <td>13</td>\n",
              "      <td>246</td>\n",
              "      <td>254</td>\n",
              "      <td>252</td>\n",
              "      <td>168</td>\n",
              "      <td>36</td>\n",
              "      <td>0</td>\n",
              "      <td>59</td>\n",
              "      <td>113</td>\n",
              "      <td>191</td>\n",
              "      <td>...</td>\n",
              "      <td>196</td>\n",
              "      <td>176</td>\n",
              "      <td>200</td>\n",
              "      <td>213</td>\n",
              "      <td>242</td>\n",
              "      <td>249</td>\n",
              "      <td>252</td>\n",
              "      <td>254</td>\n",
              "      <td>255</td>\n",
              "      <td>255</td>\n",
              "    </tr>\n",
              "    <tr>\n",
              "      <th>...</th>\n",
              "      <td>...</td>\n",
              "      <td>...</td>\n",
              "      <td>...</td>\n",
              "      <td>...</td>\n",
              "      <td>...</td>\n",
              "      <td>...</td>\n",
              "      <td>...</td>\n",
              "      <td>...</td>\n",
              "      <td>...</td>\n",
              "      <td>...</td>\n",
              "      <td>...</td>\n",
              "      <td>...</td>\n",
              "      <td>...</td>\n",
              "      <td>...</td>\n",
              "      <td>...</td>\n",
              "      <td>...</td>\n",
              "      <td>...</td>\n",
              "      <td>...</td>\n",
              "      <td>...</td>\n",
              "      <td>...</td>\n",
              "      <td>...</td>\n",
              "    </tr>\n",
              "    <tr>\n",
              "      <th>3307</th>\n",
              "      <td>24</td>\n",
              "      <td>254</td>\n",
              "      <td>254</td>\n",
              "      <td>254</td>\n",
              "      <td>254</td>\n",
              "      <td>254</td>\n",
              "      <td>254</td>\n",
              "      <td>254</td>\n",
              "      <td>254</td>\n",
              "      <td>252</td>\n",
              "      <td>...</td>\n",
              "      <td>255</td>\n",
              "      <td>249</td>\n",
              "      <td>255</td>\n",
              "      <td>255</td>\n",
              "      <td>251</td>\n",
              "      <td>251</td>\n",
              "      <td>255</td>\n",
              "      <td>255</td>\n",
              "      <td>255</td>\n",
              "      <td>255</td>\n",
              "    </tr>\n",
              "    <tr>\n",
              "      <th>3308</th>\n",
              "      <td>24</td>\n",
              "      <td>246</td>\n",
              "      <td>255</td>\n",
              "      <td>246</td>\n",
              "      <td>249</td>\n",
              "      <td>255</td>\n",
              "      <td>250</td>\n",
              "      <td>247</td>\n",
              "      <td>246</td>\n",
              "      <td>254</td>\n",
              "      <td>...</td>\n",
              "      <td>255</td>\n",
              "      <td>255</td>\n",
              "      <td>255</td>\n",
              "      <td>255</td>\n",
              "      <td>255</td>\n",
              "      <td>255</td>\n",
              "      <td>255</td>\n",
              "      <td>255</td>\n",
              "      <td>255</td>\n",
              "      <td>255</td>\n",
              "    </tr>\n",
              "    <tr>\n",
              "      <th>3309</th>\n",
              "      <td>24</td>\n",
              "      <td>255</td>\n",
              "      <td>247</td>\n",
              "      <td>240</td>\n",
              "      <td>188</td>\n",
              "      <td>70</td>\n",
              "      <td>5</td>\n",
              "      <td>7</td>\n",
              "      <td>14</td>\n",
              "      <td>0</td>\n",
              "      <td>...</td>\n",
              "      <td>255</td>\n",
              "      <td>251</td>\n",
              "      <td>252</td>\n",
              "      <td>255</td>\n",
              "      <td>255</td>\n",
              "      <td>253</td>\n",
              "      <td>255</td>\n",
              "      <td>255</td>\n",
              "      <td>255</td>\n",
              "      <td>255</td>\n",
              "    </tr>\n",
              "    <tr>\n",
              "      <th>3310</th>\n",
              "      <td>24</td>\n",
              "      <td>251</td>\n",
              "      <td>242</td>\n",
              "      <td>249</td>\n",
              "      <td>255</td>\n",
              "      <td>246</td>\n",
              "      <td>249</td>\n",
              "      <td>255</td>\n",
              "      <td>244</td>\n",
              "      <td>251</td>\n",
              "      <td>...</td>\n",
              "      <td>255</td>\n",
              "      <td>252</td>\n",
              "      <td>250</td>\n",
              "      <td>251</td>\n",
              "      <td>254</td>\n",
              "      <td>255</td>\n",
              "      <td>255</td>\n",
              "      <td>255</td>\n",
              "      <td>255</td>\n",
              "      <td>255</td>\n",
              "    </tr>\n",
              "    <tr>\n",
              "      <th>3311</th>\n",
              "      <td>24</td>\n",
              "      <td>246</td>\n",
              "      <td>255</td>\n",
              "      <td>249</td>\n",
              "      <td>247</td>\n",
              "      <td>252</td>\n",
              "      <td>243</td>\n",
              "      <td>249</td>\n",
              "      <td>255</td>\n",
              "      <td>245</td>\n",
              "      <td>...</td>\n",
              "      <td>172</td>\n",
              "      <td>241</td>\n",
              "      <td>251</td>\n",
              "      <td>252</td>\n",
              "      <td>255</td>\n",
              "      <td>253</td>\n",
              "      <td>255</td>\n",
              "      <td>255</td>\n",
              "      <td>255</td>\n",
              "      <td>255</td>\n",
              "    </tr>\n",
              "  </tbody>\n",
              "</table>\n",
              "<p>3312 rows × 785 columns</p>\n",
              "</div>\n",
              "      <button class=\"colab-df-convert\" onclick=\"convertToInteractive('df-7c6c0624-b5bc-4517-b2df-efeb21420323')\"\n",
              "              title=\"Convert this dataframe to an interactive table.\"\n",
              "              style=\"display:none;\">\n",
              "        \n",
              "  <svg xmlns=\"http://www.w3.org/2000/svg\" height=\"24px\"viewBox=\"0 0 24 24\"\n",
              "       width=\"24px\">\n",
              "    <path d=\"M0 0h24v24H0V0z\" fill=\"none\"/>\n",
              "    <path d=\"M18.56 5.44l.94 2.06.94-2.06 2.06-.94-2.06-.94-.94-2.06-.94 2.06-2.06.94zm-11 1L8.5 8.5l.94-2.06 2.06-.94-2.06-.94L8.5 2.5l-.94 2.06-2.06.94zm10 10l.94 2.06.94-2.06 2.06-.94-2.06-.94-.94-2.06-.94 2.06-2.06.94z\"/><path d=\"M17.41 7.96l-1.37-1.37c-.4-.4-.92-.59-1.43-.59-.52 0-1.04.2-1.43.59L10.3 9.45l-7.72 7.72c-.78.78-.78 2.05 0 2.83L4 21.41c.39.39.9.59 1.41.59.51 0 1.02-.2 1.41-.59l7.78-7.78 2.81-2.81c.8-.78.8-2.07 0-2.86zM5.41 20L4 18.59l7.72-7.72 1.47 1.35L5.41 20z\"/>\n",
              "  </svg>\n",
              "      </button>\n",
              "      \n",
              "  <style>\n",
              "    .colab-df-container {\n",
              "      display:flex;\n",
              "      flex-wrap:wrap;\n",
              "      gap: 12px;\n",
              "    }\n",
              "\n",
              "    .colab-df-convert {\n",
              "      background-color: #E8F0FE;\n",
              "      border: none;\n",
              "      border-radius: 50%;\n",
              "      cursor: pointer;\n",
              "      display: none;\n",
              "      fill: #1967D2;\n",
              "      height: 32px;\n",
              "      padding: 0 0 0 0;\n",
              "      width: 32px;\n",
              "    }\n",
              "\n",
              "    .colab-df-convert:hover {\n",
              "      background-color: #E2EBFA;\n",
              "      box-shadow: 0px 1px 2px rgba(60, 64, 67, 0.3), 0px 1px 3px 1px rgba(60, 64, 67, 0.15);\n",
              "      fill: #174EA6;\n",
              "    }\n",
              "\n",
              "    [theme=dark] .colab-df-convert {\n",
              "      background-color: #3B4455;\n",
              "      fill: #D2E3FC;\n",
              "    }\n",
              "\n",
              "    [theme=dark] .colab-df-convert:hover {\n",
              "      background-color: #434B5C;\n",
              "      box-shadow: 0px 1px 3px 1px rgba(0, 0, 0, 0.15);\n",
              "      filter: drop-shadow(0px 1px 2px rgba(0, 0, 0, 0.3));\n",
              "      fill: #FFFFFF;\n",
              "    }\n",
              "  </style>\n",
              "\n",
              "      <script>\n",
              "        const buttonEl =\n",
              "          document.querySelector('#df-7c6c0624-b5bc-4517-b2df-efeb21420323 button.colab-df-convert');\n",
              "        buttonEl.style.display =\n",
              "          google.colab.kernel.accessAllowed ? 'block' : 'none';\n",
              "\n",
              "        async function convertToInteractive(key) {\n",
              "          const element = document.querySelector('#df-7c6c0624-b5bc-4517-b2df-efeb21420323');\n",
              "          const dataTable =\n",
              "            await google.colab.kernel.invokeFunction('convertToInteractive',\n",
              "                                                     [key], {});\n",
              "          if (!dataTable) return;\n",
              "\n",
              "          const docLinkHtml = 'Like what you see? Visit the ' +\n",
              "            '<a target=\"_blank\" href=https://colab.research.google.com/notebooks/data_table.ipynb>data table notebook</a>'\n",
              "            + ' to learn more about interactive tables.';\n",
              "          element.innerHTML = '';\n",
              "          dataTable['output_type'] = 'display_data';\n",
              "          await google.colab.output.renderOutput(dataTable, element);\n",
              "          const docLink = document.createElement('div');\n",
              "          docLink.innerHTML = docLinkHtml;\n",
              "          element.appendChild(docLink);\n",
              "        }\n",
              "      </script>\n",
              "    </div>\n",
              "  </div>\n",
              "  "
            ],
            "text/plain": [
              "     label  pixel0  pixel1  pixel2  pixel3  pixel4  pixel5  pixel6  pixel7  \\\n",
              "0       13     254     254     254     254     254     254     254     254   \n",
              "1       13     246     255     255     243     254     244     231     248   \n",
              "2       13     254     255     255     255     255     254     253     252   \n",
              "3       13      58      60     132     123     119      45      12       7   \n",
              "4       13     246     254     252     168      36       0      59     113   \n",
              "...    ...     ...     ...     ...     ...     ...     ...     ...     ...   \n",
              "3307    24     254     254     254     254     254     254     254     254   \n",
              "3308    24     246     255     246     249     255     250     247     246   \n",
              "3309    24     255     247     240     188      70       5       7      14   \n",
              "3310    24     251     242     249     255     246     249     255     244   \n",
              "3311    24     246     255     249     247     252     243     249     255   \n",
              "\n",
              "      pixel8  ...  pixel774  pixel775  pixel776  pixel777  pixel778  pixel779  \\\n",
              "0        254  ...       253       254       255       255       255       255   \n",
              "1        236  ...       253       254       254       255       255       255   \n",
              "2        243  ...       255       243       255       255       252       253   \n",
              "3          6  ...       254       255       255       255       254       254   \n",
              "4        191  ...       196       176       200       213       242       249   \n",
              "...      ...  ...       ...       ...       ...       ...       ...       ...   \n",
              "3307     252  ...       255       249       255       255       251       251   \n",
              "3308     254  ...       255       255       255       255       255       255   \n",
              "3309       0  ...       255       251       252       255       255       253   \n",
              "3310     251  ...       255       252       250       251       254       255   \n",
              "3311     245  ...       172       241       251       252       255       253   \n",
              "\n",
              "      pixel780  pixel781  pixel782  pixel783  \n",
              "0          255       255       255       255  \n",
              "1          255       255       255       255  \n",
              "2          255       255       255       255  \n",
              "3          255       255       255       255  \n",
              "4          252       254       255       255  \n",
              "...        ...       ...       ...       ...  \n",
              "3307       255       255       255       255  \n",
              "3308       255       255       255       255  \n",
              "3309       255       255       255       255  \n",
              "3310       255       255       255       255  \n",
              "3311       255       255       255       255  \n",
              "\n",
              "[3312 rows x 785 columns]"
            ]
          },
          "execution_count": 39,
          "metadata": {},
          "output_type": "execute_result"
        }
      ],
      "source": [
        "test"
      ]
    },
    {
      "cell_type": "code",
      "execution_count": null,
      "metadata": {
        "colab": {
          "base_uri": "https://localhost:8080/"
        },
        "id": "p76WhZwPjNq-",
        "outputId": "44aca0ba-56f1-449e-9972-05fd3ccd00ff"
      },
      "outputs": [
        {
          "data": {
            "text/plain": [
              "pandas.core.frame.DataFrame"
            ]
          },
          "execution_count": 41,
          "metadata": {},
          "output_type": "execute_result"
        }
      ],
      "source": [
        "type(test)"
      ]
    },
    {
      "cell_type": "code",
      "execution_count": null,
      "metadata": {
        "id": "0lzalPW6jVsr"
      },
      "outputs": [],
      "source": [
        "df1 = test.iloc[0 : 1]"
      ]
    },
    {
      "cell_type": "code",
      "execution_count": null,
      "metadata": {
        "colab": {
          "base_uri": "https://localhost:8080/"
        },
        "id": "imEPQ9DzjkI_",
        "outputId": "2da29559-5192-498a-a559-39d1b7d23fbb"
      },
      "outputs": [
        {
          "name": "stderr",
          "output_type": "stream",
          "text": [
            "<ipython-input-57-9a121a23f466>:1: SettingWithCopyWarning: \n",
            "A value is trying to be set on a copy of a slice from a DataFrame\n",
            "\n",
            "See the caveats in the documentation: https://pandas.pydata.org/pandas-docs/stable/user_guide/indexing.html#returning-a-view-versus-a-copy\n",
            "  df1.drop('label', inplace = True, axis = 1)\n"
          ]
        }
      ],
      "source": [
        "df1.drop('label', inplace = True, axis = 1)"
      ]
    },
    {
      "cell_type": "code",
      "execution_count": null,
      "metadata": {
        "colab": {
          "base_uri": "https://localhost:8080/"
        },
        "id": "uVDgAEaxkGwN",
        "outputId": "0022347e-95ee-45dd-fe4c-6856b67e7435"
      },
      "outputs": [
        {
          "name": "stdout",
          "output_type": "stream",
          "text": [
            "1/1 - 1s - 522ms/epoch - 522ms/step\n",
            "[[2.12511554e-06 1.57561775e-09 1.35052591e-08 3.81169016e-08\n",
            "  8.77910759e-04 1.73259807e-07 2.68302847e-06 9.31328543e-07\n",
            "  5.03932363e-09 2.76880119e-08 6.50420816e-07 1.63102832e-05\n",
            "  9.98767853e-01 4.63908800e-05 1.22739907e-09 7.85874388e-09\n",
            "  6.67665523e-09 1.10166466e-05 1.38976528e-08 8.47717914e-08\n",
            "  1.51347557e-08 1.61808856e-07 1.37144383e-07 1.01234354e-10\n",
            "  1.21594346e-10 2.15989697e-08 1.71148624e-08 1.06009354e-10\n",
            "  2.77888148e-07 5.22139519e-11 2.81316659e-07 8.22673596e-10\n",
            "  7.46269961e-06 3.84511196e-08 1.11090017e-07 1.30210696e-08\n",
            "  4.56866367e-09 5.29009503e-10 1.23580248e-04 6.22052141e-07\n",
            "  1.40999618e-04 7.31005345e-09 1.29303579e-09 2.91841173e-09\n",
            "  1.94540184e-09 5.91815708e-09 9.85291937e-09 4.92093311e-10]]\n"
          ]
        }
      ],
      "source": [
        "print(model.predict(X_test[0].reshape(-1, 28, 28, 1),verbose=2))"
      ]
    },
    {
      "cell_type": "code",
      "execution_count": null,
      "metadata": {
        "colab": {
          "base_uri": "https://localhost:8080/"
        },
        "id": "gPQWpVZBmIiB",
        "outputId": "3194de14-0185-49df-cb93-9760c8e7474b"
      },
      "outputs": [
        {
          "name": "stdout",
          "output_type": "stream",
          "text": [
            "dict_keys(['loss', 'accuracy'])\n"
          ]
        }
      ],
      "source": [
        "history_dict = history.history\n",
        "print(history_dict.keys())"
      ]
    },
    {
      "cell_type": "code",
      "execution_count": null,
      "metadata": {
        "colab": {
          "base_uri": "https://localhost:8080/",
          "height": 489
        },
        "id": "lIR8wh41kQMN",
        "outputId": "e3e4ea6d-c22b-4323-a0b0-c96bde3eadde"
      },
      "outputs": [
        {
          "name": "stdout",
          "output_type": "stream",
          "text": [
            "<keras.callbacks.History object at 0x7ff8eaded000>\n"
          ]
        },
        {
          "data": {
            "image/png": "[encoded data removed]",
            "text/plain": [
              "<Figure size 640x480 with 1 Axes>"
            ]
          },
          "metadata": {},
          "output_type": "display_data"
        }
      ],
      "source": [
        "# Accuracy\n",
        "print (history)\n",
        "fig1, ax_acc = plt.subplots()\n",
        "plt.plot(history_dict['accuracy'])\n",
        "plt.plot(history.history['loss'])\n",
        "plt.xlabel('Accuracy')\n",
        "plt.ylabel('Loss')\n",
        "plt.title('Accuracy - Loss') \n",
        "plt.legend (['Training', 'Validation'], loc='lower right')\n",
        "plt.show()"
      ]
    },
    {
      "cell_type": "code",
      "execution_count": null,
      "metadata": {
        "id": "KCui7e4cl8mi"
      },
      "outputs": [],
      "source": []
    }
  ],
  "metadata": {
    "colab": {
      "provenance": [],
      "authorship_tag": "ABX9TyNI7U3FpvQe/ISql1eYY6YQ",
      "include_colab_link": true
    },
    "kernelspec": {
      "display_name": "Python 3",
      "name": "python3"
    },
    "language_info": {
      "name": "python"
    }
  },
  "nbformat": 4,
  "nbformat_minor": 0
}